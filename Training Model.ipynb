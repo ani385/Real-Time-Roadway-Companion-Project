{
 "cells": [
  {
   "cell_type": "code",
   "execution_count": null,
   "id": "a3ee320f",
   "metadata": {},
   "outputs": [],
   "source": [
    "# Training model YOLOv8\n",
    "# Object Detection\n",
    "from ultralytics import YOLO\n",
    "\n",
    "model = YOLO('yolov8s.pt')\n",
    "\n",
    "results = model.train(data='path_to_yaml1',\n",
    "                      epochs=150, \n",
    "                      imgsz=640, \n",
    "                      device=0, \n",
    "                      name = 'RTRC_v8s_exp1')\n",
    "\n",
    "# Person Segmentation\n",
    "from ultralytics import YOLO\n",
    "\n",
    "model = YOLO('yolov8s-seg.pt')\n",
    "\n",
    "results = model.train(data='path_to_yaml2', \n",
    "                      epochs=200,\n",
    "                      imgsz = 640,\n",
    "                      save_period=50,\n",
    "                      plots=True,\n",
    "                      device=(0,1),\n",
    "                      patience=50,\n",
    "                      name='PerSeg_Batch1_v1')\n",
    "\n",
    "# Speed Classification\n",
    "\n",
    "from ultralytics import YOLO\n",
    "\n",
    "model = YOLO('yolov8s-cls.pt')\n",
    "\n",
    "results2 = model.train(data=\"path_to_data_dir\", \n",
    "                      epochs=15,\n",
    "                      imgsz = 224,\n",
    "                      save_period=5,\n",
    "                      plots=True,\n",
    "                      device=0,\n",
    "                      patience=8,\n",
    "                      fliplr=0.0,\n",
    "                      name='TSC_YOLOv8s_v1')"
   ]
  }
 ],
 "metadata": {
  "kernelspec": {
   "display_name": "Python 3 (ipykernel)",
   "language": "python",
   "name": "python3"
  },
  "language_info": {
   "codemirror_mode": {
    "name": "ipython",
    "version": 3
   },
   "file_extension": ".py",
   "mimetype": "text/x-python",
   "name": "python",
   "nbconvert_exporter": "python",
   "pygments_lexer": "ipython3",
   "version": "3.9.5"
  }
 },
 "nbformat": 4,
 "nbformat_minor": 5
}
